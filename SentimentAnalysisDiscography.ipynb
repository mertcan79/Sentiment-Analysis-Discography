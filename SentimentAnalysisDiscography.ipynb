{
 "cells": [
  {
   "cell_type": "code",
   "execution_count": 256,
   "metadata": {},
   "outputs": [],
   "source": [
    "# import libraries\n",
    "import pandas as pd\n",
    "import plotly.express as px\n",
    "import plotly.graph_objects as go\n",
    "import numpy as np\n",
    "import re\n",
    "import random\n",
    "import nltk\n",
    "from scipy import sparse\n",
    "from scipy.sparse import csr_matrix, vstack\n",
    "from textblob import TextBlob\n",
    "from textblob.sentiments import NaiveBayesAnalyzer\n",
    "\n",
    "from langdetect import detect_langs\n",
    "import pickle\n",
    "from datetime import datetime\n",
    "from nltk.corpus import stopwords\n",
    "from nltk.stem import WordNetLemmatizer \n",
    "\n",
    "from sklearn.feature_extraction.text import TfidfTransformer, CountVectorizer\n",
    "from sklearn.metrics.pairwise import cosine_similarity\n",
    "from sklearn.linear_model import LogisticRegression\n",
    "from sklearn.metrics import accuracy_score, confusion_matrix, silhouette_score\n",
    "from sklearn.pipeline import Pipeline\n",
    "from sklearn.preprocessing import StandardScaler\n",
    "from sklearn.cluster import MeanShift\n",
    "from sklearn import preprocessing"
   ]
  },
  {
   "cell_type": "code",
   "execution_count": 2,
   "metadata": {},
   "outputs": [],
   "source": [
    "#nltk.download('movie_reviews')\n",
    "#nltk.download('punkt')\n",
    "#nltk.download('wordnet')\n",
    "#nltk.download('stopwords')"
   ]
  },
  {
   "cell_type": "code",
   "execution_count": 203,
   "metadata": {},
   "outputs": [
    {
     "data": {
      "text/html": [
       "<div>\n",
       "<style scoped>\n",
       "    .dataframe tbody tr th:only-of-type {\n",
       "        vertical-align: middle;\n",
       "    }\n",
       "\n",
       "    .dataframe tbody tr th {\n",
       "        vertical-align: top;\n",
       "    }\n",
       "\n",
       "    .dataframe thead th {\n",
       "        text-align: right;\n",
       "    }\n",
       "</style>\n",
       "<table border=\"1\" class=\"dataframe\">\n",
       "  <thead>\n",
       "    <tr style=\"text-align: right;\">\n",
       "      <th></th>\n",
       "      <th>artist</th>\n",
       "      <th>song</th>\n",
       "      <th>text</th>\n",
       "    </tr>\n",
       "  </thead>\n",
       "  <tbody>\n",
       "    <tr>\n",
       "      <th>0</th>\n",
       "      <td>ABBA</td>\n",
       "      <td>Ahe's My Kind Of Girl</td>\n",
       "      <td>Look at her face, it's a wonderful face  \\nAnd...</td>\n",
       "    </tr>\n",
       "    <tr>\n",
       "      <th>1</th>\n",
       "      <td>ABBA</td>\n",
       "      <td>Andante, Andante</td>\n",
       "      <td>Take it easy with me, please  \\nTouch me gentl...</td>\n",
       "    </tr>\n",
       "    <tr>\n",
       "      <th>2</th>\n",
       "      <td>ABBA</td>\n",
       "      <td>As Good As New</td>\n",
       "      <td>I'll never know why I had to go  \\nWhy I had t...</td>\n",
       "    </tr>\n",
       "    <tr>\n",
       "      <th>3</th>\n",
       "      <td>ABBA</td>\n",
       "      <td>Bang</td>\n",
       "      <td>Making somebody happy is a question of give an...</td>\n",
       "    </tr>\n",
       "    <tr>\n",
       "      <th>4</th>\n",
       "      <td>ABBA</td>\n",
       "      <td>Bang-A-Boomerang</td>\n",
       "      <td>Making somebody happy is a question of give an...</td>\n",
       "    </tr>\n",
       "  </tbody>\n",
       "</table>\n",
       "</div>"
      ],
      "text/plain": [
       "  artist                   song  \\\n",
       "0   ABBA  Ahe's My Kind Of Girl   \n",
       "1   ABBA       Andante, Andante   \n",
       "2   ABBA         As Good As New   \n",
       "3   ABBA                   Bang   \n",
       "4   ABBA       Bang-A-Boomerang   \n",
       "\n",
       "                                                text  \n",
       "0  Look at her face, it's a wonderful face  \\nAnd...  \n",
       "1  Take it easy with me, please  \\nTouch me gentl...  \n",
       "2  I'll never know why I had to go  \\nWhy I had t...  \n",
       "3  Making somebody happy is a question of give an...  \n",
       "4  Making somebody happy is a question of give an...  "
      ]
     },
     "execution_count": 203,
     "metadata": {},
     "output_type": "execute_result"
    }
   ],
   "source": [
    "song_df = pd.read_csv(r'C:\\Users\\MCOSKUN\\songdata.csv')\n",
    "song_df.drop('link', axis =1 , inplace = True)\n",
    "song_df.head()"
   ]
  },
  {
   "cell_type": "code",
   "execution_count": 204,
   "metadata": {},
   "outputs": [],
   "source": [
    "# remove round brackets but not text within\n",
    "song_df['text'] = song_df['text'].map(lambda s: re.sub(r'\\(|\\)', '', s))\n",
    "\n",
    "# remove square brackest and text within\n",
    "song_df['text'] = song_df['text'].map(lambda s: re.sub(r'\\[(.*?)\\] ', '', s))"
   ]
  },
  {
   "cell_type": "code",
   "execution_count": 4,
   "metadata": {},
   "outputs": [],
   "source": [
    "# count number of lines\n",
    "song_df['lines'] = song_df['text'].map(lambda t: len(re.findall(r'\\n', t)))\n",
    "# remove line breaks\n",
    "song_df['text'] = song_df['text'].map(lambda s: re.sub(r' \\n|\\n', '', s))"
   ]
  },
  {
   "cell_type": "code",
   "execution_count": 5,
   "metadata": {},
   "outputs": [
    {
     "name": "stdout",
     "output_type": "stream",
     "text": [
      "Number of english songs: 57183\n",
      "Number of non-english songs: 467\n"
     ]
    }
   ],
   "source": [
    "def get_eng_prob(text):\n",
    "    detections = detect_langs(text)\n",
    "    for detection in detections:\n",
    "        if detection.lang == 'en':\n",
    "            return detection.prob\n",
    "    return 0\n",
    "\n",
    "song_df['en_prob'] = song_df['text'].map(get_eng_prob)\n",
    "\n",
    "print('Number of english songs: {}'.format(sum(song_df['en_prob'] >= 0.5)))\n",
    "print('Number of non-english songs: {}'.format(sum(song_df['en_prob'] < 0.5)))"
   ]
  },
  {
   "cell_type": "code",
   "execution_count": 6,
   "metadata": {},
   "outputs": [],
   "source": [
    "song_df = song_df.loc[song_df['en_prob'] >= 0.5]"
   ]
  },
  {
   "cell_type": "code",
   "execution_count": 205,
   "metadata": {},
   "outputs": [],
   "source": [
    "#song_df.to_csv(r'C:\\Users\\MCOSKUN\\songdata-en.csv')\n",
    "song_df = pd.read_csv(r'C:\\Users\\MCOSKUN\\songdata-en.csv', index_col = 'artist')\n",
    "song_df.drop('Unnamed: 0', axis = 1, inplace = True)"
   ]
  },
  {
   "cell_type": "markdown",
   "metadata": {},
   "source": [
    "# Grouping"
   ]
  },
  {
   "cell_type": "code",
   "execution_count": 206,
   "metadata": {},
   "outputs": [],
   "source": [
    "\n",
    "lemmatizer = WordNetLemmatizer()\n",
    "\n",
    "song_df['lemmatization'] = song_df['tokens'].apply(lambda x: lemmatizer.lemmatize(x))"
   ]
  },
  {
   "cell_type": "code",
   "execution_count": 207,
   "metadata": {},
   "outputs": [],
   "source": [
    "song_df['lemmatization_str'] = song_df['lemmatization'].map(lambda lst: ' '.join(lst))"
   ]
  },
  {
   "cell_type": "code",
   "execution_count": 208,
   "metadata": {},
   "outputs": [],
   "source": [
    "song_df['lemmatization_str'] = song_df['lemmatization_str'].str.replace(r' ', '')\n"
   ]
  },
  {
   "cell_type": "markdown",
   "metadata": {},
   "source": [
    "# Remove stop words and group"
   ]
  },
  {
   "cell_type": "code",
   "execution_count": 209,
   "metadata": {},
   "outputs": [
    {
     "data": {
      "text/html": [
       "<div>\n",
       "<style scoped>\n",
       "    .dataframe tbody tr th:only-of-type {\n",
       "        vertical-align: middle;\n",
       "    }\n",
       "\n",
       "    .dataframe tbody tr th {\n",
       "        vertical-align: top;\n",
       "    }\n",
       "\n",
       "    .dataframe thead th {\n",
       "        text-align: right;\n",
       "    }\n",
       "</style>\n",
       "<table border=\"1\" class=\"dataframe\">\n",
       "  <thead>\n",
       "    <tr style=\"text-align: right;\">\n",
       "      <th></th>\n",
       "      <th>lemmatization</th>\n",
       "    </tr>\n",
       "    <tr>\n",
       "      <th>artist</th>\n",
       "      <th></th>\n",
       "    </tr>\n",
       "  </thead>\n",
       "  <tbody>\n",
       "    <tr>\n",
       "      <th>'n Sync</th>\n",
       "      <td>['Girl', 'don', 't', 'say', 'that', 'it', 's',...</td>\n",
       "    </tr>\n",
       "    <tr>\n",
       "      <th>ABBA</th>\n",
       "      <td>['Look', 'at', 'her', 'face', 'it', 's', 'a', ...</td>\n",
       "    </tr>\n",
       "    <tr>\n",
       "      <th>Ace Of Base</th>\n",
       "      <td>['Always', 'have', 'always', 'will', 'I', 'was...</td>\n",
       "    </tr>\n",
       "    <tr>\n",
       "      <th>Adam Sandler</th>\n",
       "      <td>['Hello', 'mudda', 'hello', 'fadda', 'Here', '...</td>\n",
       "    </tr>\n",
       "    <tr>\n",
       "      <th>Adele</th>\n",
       "      <td>['I', 'will', 'leave', 'my', 'heart', 'at', 't...</td>\n",
       "    </tr>\n",
       "    <tr>\n",
       "      <th>...</th>\n",
       "      <td>...</td>\n",
       "    </tr>\n",
       "    <tr>\n",
       "      <th>Zoegirl</th>\n",
       "      <td>['I', 've', 'been', 'thinking', 'lately', 'abo...</td>\n",
       "    </tr>\n",
       "    <tr>\n",
       "      <th>Zornik</th>\n",
       "      <td>['Is', 'a', 'dream', 'a', 'lie', 'when', 'you'...</td>\n",
       "    </tr>\n",
       "    <tr>\n",
       "      <th>Zox</th>\n",
       "      <td>['If', 'I', 'could', 'write', 'you', 'a', 'son...</td>\n",
       "    </tr>\n",
       "    <tr>\n",
       "      <th>Zucchero</th>\n",
       "      <td>['I', 'tell', 'ya', 'brother', 'man', 'shit', ...</td>\n",
       "    </tr>\n",
       "    <tr>\n",
       "      <th>Zwan</th>\n",
       "      <td>['Baby', 'Let', 's', 'Rock', 'baby', 'i', 'm',...</td>\n",
       "    </tr>\n",
       "  </tbody>\n",
       "</table>\n",
       "<p>638 rows × 1 columns</p>\n",
       "</div>"
      ],
      "text/plain": [
       "                                                  lemmatization\n",
       "artist                                                         \n",
       "'n Sync       ['Girl', 'don', 't', 'say', 'that', 'it', 's',...\n",
       "ABBA          ['Look', 'at', 'her', 'face', 'it', 's', 'a', ...\n",
       "Ace Of Base   ['Always', 'have', 'always', 'will', 'I', 'was...\n",
       "Adam Sandler  ['Hello', 'mudda', 'hello', 'fadda', 'Here', '...\n",
       "Adele         ['I', 'will', 'leave', 'my', 'heart', 'at', 't...\n",
       "...                                                         ...\n",
       "Zoegirl       ['I', 've', 'been', 'thinking', 'lately', 'abo...\n",
       "Zornik        ['Is', 'a', 'dream', 'a', 'lie', 'when', 'you'...\n",
       "Zox           ['If', 'I', 'could', 'write', 'you', 'a', 'son...\n",
       "Zucchero      ['I', 'tell', 'ya', 'brother', 'man', 'shit', ...\n",
       "Zwan          ['Baby', 'Let', 's', 'Rock', 'baby', 'i', 'm',...\n",
       "\n",
       "[638 rows x 1 columns]"
      ]
     },
     "execution_count": 209,
     "metadata": {},
     "output_type": "execute_result"
    }
   ],
   "source": [
    "song_df_grouped = song_df.groupby('artist')['lemmatization'].sum()\n",
    "song_df_grouped = pd.DataFrame(data = song_df_grouped, index = song_df_grouped.index)\n",
    "song_df_grouped"
   ]
  },
  {
   "cell_type": "code",
   "execution_count": 191,
   "metadata": {},
   "outputs": [],
   "source": [
    "#song_df_grouped.to_csv(r'C:\\Users\\MCOSKUN\\discography-sentiments.csv')\n",
    "song_df_grouped = pd.read_csv(r'C:\\Users\\MCOSKUN\\discography-sentiments.csv')"
   ]
  },
  {
   "cell_type": "code",
   "execution_count": null,
   "metadata": {},
   "outputs": [],
   "source": [
    "import ast\n",
    "for row in range(len(song_df_grouped['lemmatization'])):\n",
    "    l = ast.literal_eval(song_df_grouped['lemmatization'][row])\n",
    "    l = [i.strip() for i in l]\n",
    "    song_df_grouped['lemmatization'][row] = l"
   ]
  },
  {
   "cell_type": "code",
   "execution_count": 47,
   "metadata": {},
   "outputs": [
    {
     "data": {
      "text/html": [
       "<div>\n",
       "<style scoped>\n",
       "    .dataframe tbody tr th:only-of-type {\n",
       "        vertical-align: middle;\n",
       "    }\n",
       "\n",
       "    .dataframe tbody tr th {\n",
       "        vertical-align: top;\n",
       "    }\n",
       "\n",
       "    .dataframe thead th {\n",
       "        text-align: right;\n",
       "    }\n",
       "</style>\n",
       "<table border=\"1\" class=\"dataframe\">\n",
       "  <thead>\n",
       "    <tr style=\"text-align: right;\">\n",
       "      <th></th>\n",
       "      <th>lemmatization</th>\n",
       "    </tr>\n",
       "    <tr>\n",
       "      <th>artist</th>\n",
       "      <th></th>\n",
       "    </tr>\n",
       "  </thead>\n",
       "  <tbody>\n",
       "    <tr>\n",
       "      <th>'n Sync</th>\n",
       "      <td>[Girl, say, Cause, part, yeah, Girl, hold, ple...</td>\n",
       "    </tr>\n",
       "    <tr>\n",
       "      <th>ABBA</th>\n",
       "      <td>[Look, face, wonderful, face, And, means, some...</td>\n",
       "    </tr>\n",
       "    <tr>\n",
       "      <th>Ace Of Base</th>\n",
       "      <td>[Always, always, I, mesmerized, I, first, met,...</td>\n",
       "    </tr>\n",
       "    <tr>\n",
       "      <th>Adam Sandler</th>\n",
       "      <td>[Hello, mudda, hello, fadda, Here, I, camp, gr...</td>\n",
       "    </tr>\n",
       "    <tr>\n",
       "      <th>Adele</th>\n",
       "      <td>[I, leave, heart, door, I, say, word, They, sa...</td>\n",
       "    </tr>\n",
       "    <tr>\n",
       "      <th>...</th>\n",
       "      <td>...</td>\n",
       "    </tr>\n",
       "    <tr>\n",
       "      <th>Zoegirl</th>\n",
       "      <td>[I, thinking, lately, When, hit, nowhere, Out,...</td>\n",
       "    </tr>\n",
       "    <tr>\n",
       "      <th>Zornik</th>\n",
       "      <td>[Is, dream, lie, know, won, come, true, And, I...</td>\n",
       "    </tr>\n",
       "    <tr>\n",
       "      <th>Zox</th>\n",
       "      <td>[If, I, could, write, song, With, right, words...</td>\n",
       "    </tr>\n",
       "    <tr>\n",
       "      <th>Zucchero</th>\n",
       "      <td>[I, tell, ya, brother, man, shit, happens, By,...</td>\n",
       "    </tr>\n",
       "    <tr>\n",
       "      <th>Zwan</th>\n",
       "      <td>[Baby, Let, Rock, baby, greatest, thing, got, ...</td>\n",
       "    </tr>\n",
       "  </tbody>\n",
       "</table>\n",
       "<p>638 rows × 1 columns</p>\n",
       "</div>"
      ],
      "text/plain": [
       "                                                  lemmatization\n",
       "artist                                                         \n",
       "'n Sync       [Girl, say, Cause, part, yeah, Girl, hold, ple...\n",
       "ABBA          [Look, face, wonderful, face, And, means, some...\n",
       "Ace Of Base   [Always, always, I, mesmerized, I, first, met,...\n",
       "Adam Sandler  [Hello, mudda, hello, fadda, Here, I, camp, gr...\n",
       "Adele         [I, leave, heart, door, I, say, word, They, sa...\n",
       "...                                                         ...\n",
       "Zoegirl       [I, thinking, lately, When, hit, nowhere, Out,...\n",
       "Zornik        [Is, dream, lie, know, won, come, true, And, I...\n",
       "Zox           [If, I, could, write, song, With, right, words...\n",
       "Zucchero      [I, tell, ya, brother, man, shit, happens, By,...\n",
       "Zwan          [Baby, Let, Rock, baby, greatest, thing, got, ...\n",
       "\n",
       "[638 rows x 1 columns]"
      ]
     },
     "execution_count": 47,
     "metadata": {},
     "output_type": "execute_result"
    }
   ],
   "source": [
    "stop_words = set(stopwords.words('english')) \n",
    "\n",
    "for w in song_df_grouped['lemmatization']: \n",
    "    for z in w:\n",
    "        if z in stop_words: \n",
    "            for item in w:\n",
    "                if(item==z):\n",
    "                    w.remove(z)"
   ]
  },
  {
   "cell_type": "code",
   "execution_count": 184,
   "metadata": {},
   "outputs": [],
   "source": [
    "counter = 0\n",
    "song_df_grouped['lemmatization_freq'] = song_df_grouped['lemmatization']\n",
    "for w in song_df_grouped['lemmatization']: \n",
    "    word_counter = dict()\n",
    "    for a in w:\n",
    "        if a in word_counter:\n",
    "            word_counter[a] += 1\n",
    "        else:\n",
    "            word_counter[a] = 1\n",
    "    song_df_grouped.iloc[counter].at['lemmatization_freq'] = sorted(word_counter, key = word_counter.get, reverse = True)[:50]\n",
    "    counter += 1"
   ]
  },
  {
   "cell_type": "code",
   "execution_count": 160,
   "metadata": {},
   "outputs": [],
   "source": [
    "i = 0\n",
    "l1 = list()\n",
    "l2 = list()\n",
    "\n",
    "for artist_sent in song_df_grouped.index:\n",
    "\n",
    "    l1.append(TextBlob(str(song_df_grouped.iloc[i]['lemmatization_freq'])).sentiment.polarity)\n",
    "    l2.append(TextBlob(str(song_df_grouped.iloc[i]['lemmatization_freq'])).sentiment.subjectivity)\n",
    "    \n",
    "    i += 1\n",
    "song_df_grouped['c'] = l1\n",
    "song_df_grouped['Sentiment_Subjectivity'] = l2"
   ]
  },
  {
   "cell_type": "code",
   "execution_count": 269,
   "metadata": {},
   "outputs": [],
   "source": [
    "#song_df_grouped.drop(['Sentiment_Positive','Sentiment_Negative','Sentiment_Neutral'], axis = 1, inplace = True)\n",
    "\n",
    "#song_df_grouped.to_excel(r'C:\\Users\\MCOSKUN\\df-grouped-discography.xlsx')\n",
    "song_df_grouped = pd.read_excel(r'C:\\Users\\MCOSKUN\\df-grouped-discography.xlsx')"
   ]
  },
  {
   "cell_type": "code",
   "execution_count": 270,
   "metadata": {},
   "outputs": [],
   "source": [
    "# number of unique stems\n",
    "song_df_grouped['n_unique_lemms'] = song_df_grouped['lemmatization'].map(lambda lst: len(set(lst)))\n",
    "song_df_grouped['n_unique_lemms'] = preprocessing.scale(song_df_grouped['n_unique_lemms'])\n"
   ]
  },
  {
   "cell_type": "code",
   "execution_count": 271,
   "metadata": {},
   "outputs": [
    {
     "data": {
      "text/html": [
       "<div>\n",
       "<style scoped>\n",
       "    .dataframe tbody tr th:only-of-type {\n",
       "        vertical-align: middle;\n",
       "    }\n",
       "\n",
       "    .dataframe tbody tr th {\n",
       "        vertical-align: top;\n",
       "    }\n",
       "\n",
       "    .dataframe thead th {\n",
       "        text-align: right;\n",
       "    }\n",
       "</style>\n",
       "<table border=\"1\" class=\"dataframe\">\n",
       "  <thead>\n",
       "    <tr style=\"text-align: right;\">\n",
       "      <th></th>\n",
       "      <th>artist</th>\n",
       "      <th>Genre</th>\n",
       "      <th>lemmatization</th>\n",
       "      <th>Sentiment_Polarity</th>\n",
       "      <th>Sentiment_Subjectivity</th>\n",
       "      <th>lemmatization_freq</th>\n",
       "      <th>n_unique_lemms</th>\n",
       "    </tr>\n",
       "  </thead>\n",
       "  <tbody>\n",
       "    <tr>\n",
       "      <th>78</th>\n",
       "      <td>Creedence Clearwater Revival</td>\n",
       "      <td>Rock</td>\n",
       "      <td>['I', 'see', 'bad', 'moon', 'rising', 'I', 'se...</td>\n",
       "      <td>0.152967</td>\n",
       "      <td>0.368655</td>\n",
       "      <td>['I', 'see', 'bad', 'moon', 'rising', 'I', 'se...</td>\n",
       "      <td>0.057127</td>\n",
       "    </tr>\n",
       "    <tr>\n",
       "      <th>174</th>\n",
       "      <td>Gipsy Kings</td>\n",
       "      <td>Pop</td>\n",
       "      <td>['To', 'side', 'To', 'side', 'always', 'verita...</td>\n",
       "      <td>-0.066667</td>\n",
       "      <td>0.266667</td>\n",
       "      <td>['To', 'side', 'To', 'side', 'always', 'verita...</td>\n",
       "      <td>-5.746566</td>\n",
       "    </tr>\n",
       "    <tr>\n",
       "      <th>431</th>\n",
       "      <td>Raffi</td>\n",
       "      <td>Pop</td>\n",
       "      <td>['Baby', 'beluga', 'deep', 'blue', 'sea', 'Swi...</td>\n",
       "      <td>0.115914</td>\n",
       "      <td>0.372545</td>\n",
       "      <td>['Baby', 'beluga', 'deep', 'blue', 'sea', 'Swi...</td>\n",
       "      <td>-0.175020</td>\n",
       "    </tr>\n",
       "    <tr>\n",
       "      <th>556</th>\n",
       "      <td>Walk The Moon</td>\n",
       "      <td>Pop</td>\n",
       "      <td>['Screen', 'falling', 'door', 'door', 'hanging...</td>\n",
       "      <td>0.087765</td>\n",
       "      <td>0.398407</td>\n",
       "      <td>['Screen', 'falling', 'door', 'door', 'hanging...</td>\n",
       "      <td>-0.639316</td>\n",
       "    </tr>\n",
       "  </tbody>\n",
       "</table>\n",
       "</div>"
      ],
      "text/plain": [
       "                           artist Genre  \\\n",
       "78   Creedence Clearwater Revival  Rock   \n",
       "174                   Gipsy Kings   Pop   \n",
       "431                         Raffi   Pop   \n",
       "556                 Walk The Moon   Pop   \n",
       "\n",
       "                                         lemmatization  Sentiment_Polarity  \\\n",
       "78   ['I', 'see', 'bad', 'moon', 'rising', 'I', 'se...            0.152967   \n",
       "174  ['To', 'side', 'To', 'side', 'always', 'verita...           -0.066667   \n",
       "431  ['Baby', 'beluga', 'deep', 'blue', 'sea', 'Swi...            0.115914   \n",
       "556  ['Screen', 'falling', 'door', 'door', 'hanging...            0.087765   \n",
       "\n",
       "     Sentiment_Subjectivity  \\\n",
       "78                 0.368655   \n",
       "174                0.266667   \n",
       "431                0.372545   \n",
       "556                0.398407   \n",
       "\n",
       "                                    lemmatization_freq  n_unique_lemms  \n",
       "78   ['I', 'see', 'bad', 'moon', 'rising', 'I', 'se...        0.057127  \n",
       "174  ['To', 'side', 'To', 'side', 'always', 'verita...       -5.746566  \n",
       "431  ['Baby', 'beluga', 'deep', 'blue', 'sea', 'Swi...       -0.175020  \n",
       "556  ['Screen', 'falling', 'door', 'door', 'hanging...       -0.639316  "
      ]
     },
     "execution_count": 271,
     "metadata": {},
     "output_type": "execute_result"
    }
   ],
   "source": [
    "song_df_grouped[song_df_grouped['Sentiment_Subjectivity'] < 0.4]"
   ]
  },
  {
   "cell_type": "code",
   "execution_count": 274,
   "metadata": {},
   "outputs": [
    {
     "data": {
      "text/html": [
       "<div>\n",
       "<style scoped>\n",
       "    .dataframe tbody tr th:only-of-type {\n",
       "        vertical-align: middle;\n",
       "    }\n",
       "\n",
       "    .dataframe tbody tr th {\n",
       "        vertical-align: top;\n",
       "    }\n",
       "\n",
       "    .dataframe thead th {\n",
       "        text-align: right;\n",
       "    }\n",
       "</style>\n",
       "<table border=\"1\" class=\"dataframe\">\n",
       "  <thead>\n",
       "    <tr style=\"text-align: right;\">\n",
       "      <th></th>\n",
       "      <th>artist</th>\n",
       "      <th>Genre</th>\n",
       "      <th>lemmatization</th>\n",
       "      <th>Sentiment_Polarity</th>\n",
       "      <th>Sentiment_Subjectivity</th>\n",
       "      <th>lemmatization_freq</th>\n",
       "      <th>n_unique_lemms</th>\n",
       "    </tr>\n",
       "  </thead>\n",
       "  <tbody>\n",
       "    <tr>\n",
       "      <th>102</th>\n",
       "      <td>Don Moen</td>\n",
       "      <td>Pop</td>\n",
       "      <td>['All', 'like', 'sheep', 'Have', 'gone', 'astr...</td>\n",
       "      <td>0.338496</td>\n",
       "      <td>0.543239</td>\n",
       "      <td>['All', 'like', 'sheep', 'Have', 'gone', 'astr...</td>\n",
       "      <td>-0.639316</td>\n",
       "    </tr>\n",
       "    <tr>\n",
       "      <th>226</th>\n",
       "      <td>Iron Butterfly</td>\n",
       "      <td>Rock</td>\n",
       "      <td>['Most', 'anything', 'want', 'girl', 'Is', 'al...</td>\n",
       "      <td>0.376092</td>\n",
       "      <td>0.593715</td>\n",
       "      <td>['Most', 'anything', 'want', 'girl', 'Is', 'al...</td>\n",
       "      <td>-1.800055</td>\n",
       "    </tr>\n",
       "    <tr>\n",
       "      <th>586</th>\n",
       "      <td>X-Treme</td>\n",
       "      <td>Metal</td>\n",
       "      <td>['This', 'love', 'song', 'To', 'make', 'dreams...</td>\n",
       "      <td>0.450000</td>\n",
       "      <td>0.616667</td>\n",
       "      <td>['This', 'love', 'song', 'To', 'make', 'dreams...</td>\n",
       "      <td>-6.443010</td>\n",
       "    </tr>\n",
       "    <tr>\n",
       "      <th>628</th>\n",
       "      <td>Zed</td>\n",
       "      <td>Pop</td>\n",
       "      <td>['It', 'alright', 'It', 'Ok', 'I', 'keep', 'ho...</td>\n",
       "      <td>0.322222</td>\n",
       "      <td>0.569444</td>\n",
       "      <td>['It', 'alright', 'It', 'Ok', 'I', 'keep', 'ho...</td>\n",
       "      <td>-4.121532</td>\n",
       "    </tr>\n",
       "  </tbody>\n",
       "</table>\n",
       "</div>"
      ],
      "text/plain": [
       "             artist  Genre                                      lemmatization  \\\n",
       "102        Don Moen    Pop  ['All', 'like', 'sheep', 'Have', 'gone', 'astr...   \n",
       "226  Iron Butterfly   Rock  ['Most', 'anything', 'want', 'girl', 'Is', 'al...   \n",
       "586         X-Treme  Metal  ['This', 'love', 'song', 'To', 'make', 'dreams...   \n",
       "628             Zed    Pop  ['It', 'alright', 'It', 'Ok', 'I', 'keep', 'ho...   \n",
       "\n",
       "     Sentiment_Polarity  Sentiment_Subjectivity  \\\n",
       "102            0.338496                0.543239   \n",
       "226            0.376092                0.593715   \n",
       "586            0.450000                0.616667   \n",
       "628            0.322222                0.569444   \n",
       "\n",
       "                                    lemmatization_freq  n_unique_lemms  \n",
       "102  ['All', 'like', 'sheep', 'Have', 'gone', 'astr...       -0.639316  \n",
       "226  ['Most', 'anything', 'want', 'girl', 'Is', 'al...       -1.800055  \n",
       "586  ['This', 'love', 'song', 'To', 'make', 'dreams...       -6.443010  \n",
       "628  ['It', 'alright', 'It', 'Ok', 'I', 'keep', 'ho...       -4.121532  "
      ]
     },
     "execution_count": 274,
     "metadata": {},
     "output_type": "execute_result"
    }
   ],
   "source": [
    "song_df_grouped[song_df_grouped['Sentiment_Polarity'] > 0.32]"
   ]
  },
  {
   "cell_type": "code",
   "execution_count": 265,
   "metadata": {},
   "outputs": [],
   "source": [
    "song_df_grouped = song_df_grouped[song_df_grouped['Sentiment_Subjectivity'] > 0.4]\n",
    "song_df_grouped = song_df_grouped[song_df_grouped['Sentiment_Polarity'] < 0.32]"
   ]
  },
  {
   "cell_type": "code",
   "execution_count": 246,
   "metadata": {},
   "outputs": [
    {
     "data": {
      "text/plain": [
       "Genre\n",
       "Metal    0.040333\n",
       "Pop      0.152149\n",
       "Rap      0.061059\n",
       "Rock     0.099764\n",
       "Name: Sentiment_Polarity, dtype: float64"
      ]
     },
     "execution_count": 246,
     "metadata": {},
     "output_type": "execute_result"
    }
   ],
   "source": [
    "song_df_grouped.groupby([\"Genre\"])[\"Sentiment_Polarity\"].mean()"
   ]
  },
  {
   "cell_type": "code",
   "execution_count": 247,
   "metadata": {},
   "outputs": [
    {
     "data": {
      "text/plain": [
       "Genre\n",
       "Metal    0.515911\n",
       "Pop      0.521720\n",
       "Rap      0.501154\n",
       "Rock     0.505254\n",
       "Name: Sentiment_Subjectivity, dtype: float64"
      ]
     },
     "execution_count": 247,
     "metadata": {},
     "output_type": "execute_result"
    }
   ],
   "source": [
    "song_df_grouped.groupby([\"Genre\"])[\"Sentiment_Subjectivity\"].mean()"
   ]
  },
  {
   "cell_type": "code",
   "execution_count": 266,
   "metadata": {},
   "outputs": [
    {
     "data": {
      "text/plain": [
       "<matplotlib.axes._subplots.AxesSubplot at 0x2c3a9f5ac70>"
      ]
     },
     "execution_count": 266,
     "metadata": {},
     "output_type": "execute_result"
    },
    {
     "data": {
      "image/png": "[encoded data removed]",
      "text/plain": [
       "<Figure size 1152x864 with 1 Axes>"
      ]
     },
     "metadata": {},
     "output_type": "display_data"
    }
   ],
   "source": [
    "import seaborn as sns\n",
    "sns.set_context(\"poster\")\n",
    "sns.set(style=\"whitegrid\")\n",
    "\n",
    "sns.set(rc={'figure.figsize':(16,12)})\n",
    "\n",
    "sns.scatterplot(x=\"Sentiment_Subjectivity\", y=\"Sentiment_Polarity\", hue=\"Genre\",\n",
    "                palette=\"muted\",alpha=.5, data=song_df_grouped)"
   ]
  },
  {
   "cell_type": "code",
   "execution_count": 260,
   "metadata": {},
   "outputs": [
    {
     "data": {
      "text/plain": [
       "Genre\n",
       "Metal   -0.234930\n",
       "Pop     -0.183095\n",
       "Rap      0.953855\n",
       "Rock     0.103337\n",
       "Name: n_unique_lemms, dtype: float64"
      ]
     },
     "execution_count": 260,
     "metadata": {},
     "output_type": "execute_result"
    }
   ],
   "source": [
    "song_df_grouped.groupby([\"Genre\"])[\"n_unique_lemms\"].mean()"
   ]
  },
  {
   "cell_type": "code",
   "execution_count": null,
   "metadata": {},
   "outputs": [],
   "source": []
  },
  {
   "cell_type": "code",
   "execution_count": null,
   "metadata": {},
   "outputs": [],
   "source": []
  }
 ],
 "metadata": {
  "kernelspec": {
   "display_name": "Python 3",
   "language": "python",
   "name": "python3"
  },
  "language_info": {
   "codemirror_mode": {
    "name": "ipython",
    "version": 3
   },
   "file_extension": ".py",
   "mimetype": "text/x-python",
   "name": "python",
   "nbconvert_exporter": "python",
   "pygments_lexer": "ipython3",
   "version": "3.8.0"
  }
 },
 "nbformat": 4,
 "nbformat_minor": 4
}
